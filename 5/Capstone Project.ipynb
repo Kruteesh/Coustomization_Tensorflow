{
 "cells": [
  {
   "cell_type": "markdown",
   "metadata": {},
   "source": [
    "# Capstone Project\n",
    "## Neural translation model\n",
    "### Instructions\n",
    "\n",
    "In this notebook, you will create a neural network that translates from English to German. You will use concepts from throughout this course, including building more flexible model architectures, freezing layers, data processing pipeline and sequence modelling.\n",
    "\n",
    "This project is peer-assessed. Within this notebook you will find instructions in each section for how to complete the project. Pay close attention to the instructions as the peer review will be carried out according to a grading rubric that checks key parts of the project instructions. Feel free to add extra cells into the notebook as required.\n",
    "\n",
    "### How to submit\n",
    "\n",
    "When you have completed the Capstone project notebook, you will submit a pdf of the notebook for peer review. First ensure that the notebook has been fully executed from beginning to end, and all of the cell outputs are visible. This is important, as the grading rubric depends on the reviewer being able to view the outputs of your notebook. Save the notebook as a pdf (File -> Download as -> PDF via LaTeX). You should then submit this pdf for review.\n",
    "\n",
    "### Let's get started!\n",
    "\n",
    "We'll start by running some imports, and loading the dataset. For this project you are free to make further imports throughout the notebook as you wish. "
   ]
  },
  {
   "cell_type": "code",
   "execution_count": 1,
   "metadata": {},
   "outputs": [],
   "source": [
    "import tensorflow as tf\n",
    "import tensorflow_hub as hub\n",
    "import unicodedata\n",
    "import re\n",
    "import numpy as np\n",
    "from sklearn.model_selection import train_test_split\n",
    "from tensorflow.keras.layers import Layer\n"
   ]
  },
  {
   "cell_type": "markdown",
   "metadata": {},
   "source": [
    "![Flags overview image](data/germany_uk_flags.png)\n",
    "\n",
    "For the capstone project, you will use a language dataset from http://www.manythings.org/anki/ to build a neural translation model. This dataset consists of over 200,000 pairs of sentences in English and German. In order to make the training quicker, we will restrict to our dataset to 20,000 pairs. Feel free to change this if you wish - the size of the dataset used is not part of the grading rubric.\n",
    "\n",
    "Your goal is to develop a neural translation model from English to German, making use of a pre-trained English word embedding module."
   ]
  },
  {
   "cell_type": "code",
   "execution_count": 2,
   "metadata": {},
   "outputs": [],
   "source": [
    "# Run this cell to load the dataset\n",
    "\n",
    "NUM_EXAMPLES = 20000\n",
    "data_examples = []\n",
    "with open('data/deu.txt', 'r', encoding='utf8') as f:\n",
    "    for line in f.readlines():\n",
    "        if len(data_examples) < NUM_EXAMPLES:\n",
    "            data_examples.append(line)\n",
    "        else:\n",
    "            break"
   ]
  },
  {
   "cell_type": "code",
   "execution_count": 3,
   "metadata": {},
   "outputs": [],
   "source": [
    "# These functions preprocess English and German sentences\n",
    "\n",
    "def unicode_to_ascii(s):\n",
    "    return ''.join(c for c in unicodedata.normalize('NFD', s) if unicodedata.category(c) != 'Mn')\n",
    "\n",
    "def preprocess_sentence(sentence):\n",
    "    sentence = sentence.lower().strip()\n",
    "    sentence = re.sub(r\"ü\", 'ue', sentence)\n",
    "    sentence = re.sub(r\"ä\", 'ae', sentence)\n",
    "    sentence = re.sub(r\"ö\", 'oe', sentence)\n",
    "    sentence = re.sub(r'ß', 'ss', sentence)\n",
    "    \n",
    "    sentence = unicode_to_ascii(sentence)\n",
    "    sentence = re.sub(r\"([?.!,])\", r\" \\1 \", sentence)\n",
    "    sentence = re.sub(r\"[^a-z?.!,']+\", \" \", sentence)\n",
    "    sentence = re.sub(r'[\" \"]+', \" \", sentence)\n",
    "    \n",
    "    return sentence.strip()"
   ]
  },
  {
   "cell_type": "markdown",
   "metadata": {},
   "source": [
    "#### The custom translation model\n",
    "The following is a schematic of the custom translation model architecture you will develop in this project.\n",
    "\n",
    "![Model Schematic](data/neural_translation_model.png)\n",
    "\n",
    "Key:\n",
    "![Model key](data/neural_translation_model_key.png)\n",
    "\n",
    "The custom model consists of an encoder RNN and a decoder RNN. The encoder takes words of an English sentence as input, and uses a pre-trained word embedding to embed the words into a 128-dimensional space. To indicate the end of the input sentence, a special end token (in the same 128-dimensional space) is passed in as an input. This token is a TensorFlow Variable that is learned in the training phase (unlike the pre-trained word embedding, which is frozen).\n",
    "\n",
    "The decoder RNN takes the internal state of the encoder network as its initial state. A start token is passed in as the first input, which is embedded using a learned German word embedding. The decoder RNN then makes a prediction for the next German word, which during inference is then passed in as the following input, and this process is repeated until the special `<end>` token is emitted from the decoder."
   ]
  },
  {
   "cell_type": "markdown",
   "metadata": {},
   "source": [
    "## 1. Text preprocessing\n",
    "* Create separate lists of English and German sentences, and preprocess them using the `preprocess_sentence` function provided for you above.\n",
    "* Add a special `\"<start>\"` and `\"<end>\"` token to the beginning and end of every German sentence.\n",
    "* Use the Tokenizer class from the `tf.keras.preprocessing.text` module to tokenize the German sentences, ensuring that no character filters are applied. _Hint: use the Tokenizer's \"filter\" keyword argument._\n",
    "* Print out at least 5 randomly chosen examples of (preprocessed) English and German sentence pairs. For the German sentence, print out the text (with start and end tokens) as well as the tokenized sequence.\n",
    "* Pad the end of the tokenized German sequences with zeros, and batch the complete set of sequences into one numpy array."
   ]
  },
  {
   "cell_type": "code",
   "execution_count": 4,
   "metadata": {
    "scrolled": true
   },
   "outputs": [],
   "source": [
    "tokenizer = tf.keras.preprocessing.text.Tokenizer(filters='.!?')\n"
   ]
  },
  {
   "cell_type": "code",
   "execution_count": 5,
   "metadata": {},
   "outputs": [
    {
     "name": "stdout",
     "output_type": "stream",
     "text": [
      "English sentence:  no way  \n",
      "\n",
      "German Sentence:  <start> unmoeglich <end> \n",
      "\n",
      "English sentence:  beat it  \n",
      "\n",
      "German Sentence:  <start> hau ab <end> \n",
      "\n",
      "English sentence:  get out  \n",
      "\n",
      "German Sentence:  <start> geh raus <end> \n",
      "\n"
     ]
    }
   ],
   "source": [
    "\n",
    "eng_sent = []\n",
    "ger_sent = []\n",
    "for line in data_examples:\n",
    "    tmp_sentence = re.split(r'[.!?]',preprocess_sentence(line))\n",
    "    eng_sent.append(tmp_sentence[0])\n",
    "    ger_sent.append('<start>' + tmp_sentence[1] + '<end>')\n",
    "for t in [50, 73, 100]:\n",
    "    t = int(t)\n",
    "    print('English sentence: ', eng_sent[t],'\\n')\n",
    "    print('German Sentence: ', ger_sent[t],'\\n')\n"
   ]
  },
  {
   "cell_type": "markdown",
   "metadata": {},
   "source": []
  },
  {
   "cell_type": "code",
   "execution_count": 6,
   "metadata": {},
   "outputs": [],
   "source": [
    "\n",
    "tokenizer = tf.keras.preprocessing.text.Tokenizer(filters='')\n",
    "tokenizer.fit_on_texts(ger_sent)\n",
    "ger_sent = tokenizer.texts_to_sequences(ger_sent)\n",
    "ger_padd_sent = tf.keras.preprocessing.sequence.pad_sequences(ger_sent,padding='post')"
   ]
  },
  {
   "cell_type": "markdown",
   "metadata": {},
   "source": [
    "## 2. Prepare the data with tf.data.Dataset objects"
   ]
  },
  {
   "cell_type": "markdown",
   "metadata": {},
   "source": [
    "#### Load the embedding layer\n",
    "As part of the dataset preproceessing for this project, you will use a pre-trained English word embedding module from TensorFlow Hub. The URL for the module is https://tfhub.dev/google/tf2-preview/nnlm-en-dim128-with-normalization/1. This module has also been made available as a complete saved model in the folder `'./models/tf2-preview_nnlm-en-dim128_1'`. \n",
    "\n",
    "This embedding takes a batch of text tokens in a 1-D tensor of strings as input. It then embeds the separate tokens into a 128-dimensional space. \n",
    "\n",
    "The code to load and test the embedding layer is provided for you below.\n",
    "\n",
    "**NB:** this model can also be used as a sentence embedding module. The module will process each token by removing punctuation and splitting on spaces. It then averages the word embeddings over a sentence to give a single embedding vector. However, we will use it only as a word embedding module, and will pass each word in the input sentence as a separate token."
   ]
  },
  {
   "cell_type": "code",
   "execution_count": 7,
   "metadata": {},
   "outputs": [
    {
     "name": "stdout",
     "output_type": "stream",
     "text": [
      "WARNING:tensorflow:Please fix your imports. Module tensorflow.python.training.tracking.data_structures has been moved to tensorflow.python.trackable.data_structures. The old module will be deleted in version 2.11.\n"
     ]
    }
   ],
   "source": [
    "# Load embedding module from Tensorflow Hub\n",
    "\n",
    "embedding_layer = hub.KerasLayer(\"https://tfhub.dev/google/tf2-preview/nnlm-en-dim128/1\", \n",
    "                                 output_shape=[128], input_shape=[], dtype=tf.string)"
   ]
  },
  {
   "cell_type": "code",
   "execution_count": 8,
   "metadata": {},
   "outputs": [
    {
     "data": {
      "text/plain": [
       "TensorShape([7, 128])"
      ]
     },
     "execution_count": 8,
     "metadata": {},
     "output_type": "execute_result"
    }
   ],
   "source": [
    "# Test the layer\n",
    "\n",
    "embedding_layer(tf.constant([\"these\", \"aren't\", \"the\", \"droids\", \"you're\", \"looking\", \"for\"])).shape"
   ]
  },
  {
   "cell_type": "markdown",
   "metadata": {},
   "source": [
    "You should now prepare the training and validation Datasets.\n",
    "\n",
    "* Create a random training and validation set split of the data, reserving e.g. 20% of the data for validation (NB: each English dataset example is a single sentence string, and each German dataset example is a sequence of padded integer tokens).\n",
    "* Load the training and validation sets into a tf.data.Dataset object, passing in a tuple of English and German data for both training and validation sets.\n",
    "* Create a function to map over the datasets that splits each English sentence at spaces. Apply this function to both Dataset objects using the map method. _Hint: look at the tf.strings.split function._\n",
    "* Create a function to map over the datasets that embeds each sequence of English words using' the loaded embedding layer/model. Apply this function to both Dataset objects using the map method.\n",
    "* Create a function to filter out dataset examples where the English sentence is more than 13 (embedded) tokens in length. Apply this function to both Dataset objects using the filter method.\n",
    "* Create a function to map over the datasets that pads each English sequence of embeddings with some distinct padding value before the sequence, so that each sequence is length 13. Apply this function to both Dataset objects using the map method. _Hint: look at the tf.pad function. You can extract a Tensor shape using tf.shape; you might also find the tf.math.maximum function useful._\n",
    "* Batch both training and validation Datasets with a batch size of 16.\n",
    "* Print the `element_spec` property for the training and validation Datasets. \n",
    "* Using the Dataset `.take(1)` method, print the shape of the English data example from the training Dataset.\n",
    "* Using the Dataset `.take(1)` method, print the German data example Tensor from the validation Dataset."
   ]
  },
  {
   "cell_type": "code",
   "execution_count": 9,
   "metadata": {},
   "outputs": [],
   "source": [
    "\n",
    "eng_train, eng_test,ger_train, ger_test = train_test_split( eng_sent, ger_padd_sent, test_size=0.2)\n",
    "dataset_val = tf.data.Dataset.from_tensor_slices((eng_test, ger_test))\n",
    "dataset_train = tf.data.Dataset.from_tensor_slices((eng_train, ger_train))"
   ]
  },
  {
   "cell_type": "code",
   "execution_count": 10,
   "metadata": {},
   "outputs": [],
   "source": [
    "\n",
    "def split_sentenence_space(dataset):\n",
    "    def map_data(eng_sent, ger_sent):\n",
    "        tmp_sent_list = tf.strings.split(eng_sent, sep=' ')\n",
    "        return tmp_sent_list, ger_sent\n",
    "    dataset = dataset.map(map_data)\n",
    "    return dataset\n",
    "dataset_train = split_sentenence_space(dataset_train)\n",
    "dataset_val = split_sentenence_space(dataset_val)"
   ]
  },
  {
   "cell_type": "code",
   "execution_count": 11,
   "metadata": {},
   "outputs": [],
   "source": [
    "\n",
    "def embed_sentenence(dataset):\n",
    "    def map_data(eng_word, ger_sent):\n",
    "        tmp_word_list = embedding_layer(eng_word)\n",
    "        return tmp_word_list, ger_sent\n",
    "    dataset = dataset.map(map_data)\n",
    "    return dataset\n",
    "embeded_dataset_train = embed_sentenence(dataset_train)\n",
    "embeded_dataset_val = embed_sentenence(dataset_val)"
   ]
  },
  {
   "cell_type": "markdown",
   "metadata": {},
   "source": []
  },
  {
   "cell_type": "code",
   "execution_count": 12,
   "metadata": {},
   "outputs": [],
   "source": [
    "\n",
    "def filter_long_length(dataset):\n",
    "    def filter_fn(token, ger_sent):\n",
    "        return tf.shape(token)[0]<= 13\n",
    "    filtered_data = dataset.filter(filter_fn)\n",
    "    return filtered_data\n",
    "filtered_long_train_dataset = filter_long_length(embeded_dataset_train)\n",
    "filtered_long_val_dataset = filter_long_length(embeded_dataset_val)\n"
   ]
  },
  {
   "cell_type": "code",
   "execution_count": 13,
   "metadata": {},
   "outputs": [],
   "source": [
    "\n",
    "def filter_dataset(dataset):\n",
    "    def pad_to_length_13(eng_emb, ger_sent):\n",
    "        padding_value = -1  # You can set any distinct padding value\n",
    "        padding_needed = tf.math.maximum(0, 13 - tf.shape(eng_emb)[0])\n",
    "        padded_eng_emb = tf.pad(eng_emb, paddings=[[0, padding_needed], [0, 0]], constant_values=padding_value)\n",
    "        return padded_eng_emb, ger_sent\n",
    "    padded_dataset = dataset.map(pad_to_length_13)\n",
    "    return padded_dataset \n",
    "filtered_train_dataset = filter_dataset(filtered_long_train_dataset)\n",
    "filtered_val_dataset = filter_dataset(filtered_long_val_dataset)"
   ]
  },
  {
   "cell_type": "code",
   "execution_count": 14,
   "metadata": {},
   "outputs": [],
   "source": [
    "batched_train_dataset = filtered_train_dataset.batch(16)\n",
    "batched_val_dataset = filtered_val_dataset.batch(16)"
   ]
  },
  {
   "cell_type": "code",
   "execution_count": 15,
   "metadata": {},
   "outputs": [
    {
     "name": "stdout",
     "output_type": "stream",
     "text": [
      "Shape of English Data Example (Training): (16, 13, 128)\n",
      "Shape of German Data Example (Validation): (16, 13)\n"
     ]
    }
   ],
   "source": [
    "\n",
    "# Print the shape of the English data example from the training dataset\n",
    "sample_data_train = next(iter(batched_train_dataset.take(1)))\n",
    "print(\"Shape of English Data Example (Training):\", sample_data_train[0].shape)\n",
    "sample_data_val = next(iter(batched_val_dataset.take(1)))\n",
    "print(\"Shape of German Data Example (Validation):\", sample_data_val[1].shape)"
   ]
  },
  {
   "cell_type": "markdown",
   "metadata": {},
   "source": [
    "## 3. Create the custom layer\n",
    "You will now create a custom layer to add the learned end token embedding to the encoder model:\n",
    "\n",
    "![Encoder schematic](data/neural_translation_model_encoder.png)"
   ]
  },
  {
   "cell_type": "markdown",
   "metadata": {},
   "source": [
    "You should now build the custom layer.\n",
    "* Using layer subclassing, create a custom layer that takes a batch of English data examples from one of the Datasets, and adds a learned embedded ‘end’ token to the end of each sequence. \n",
    "* This layer should create a TensorFlow Variable (that will be learned during training) that is 128-dimensional (the size of the embedding space). _Hint: you may find it helpful in the call method to use the tf.tile function to replicate the end token embedding across every element in the batch._\n",
    "* Using the Dataset `.take(1)` method, extract a batch of English data examples from the training Dataset and print the shape. Test the custom layer by calling the layer on the English data batch Tensor and print the resulting Tensor shape (the layer should increase the sequence length by one)."
   ]
  },
  {
   "cell_type": "code",
   "execution_count": 77,
   "metadata": {},
   "outputs": [],
   "source": [
    "class Embedding_Layer_class(Layer):\n",
    "    def __init__(self, **kwargs):\n",
    "        super(Embedding_Layer_class, self).__init__(**kwargs)\n",
    "\n",
    "        # Load embedding module from Tensorflow Hub\n",
    "        self.embedding_layer = hub.KerasLayer(\"https://tfhub.dev/google/tf2-preview/nnlm-en-dim128/1\",\n",
    "                                          output_shape=[128], input_shape=[], dtype=tf.string)\n",
    "\n",
    "        # Initialize end token embedding as a trainable variable\n",
    "        self.end_token_embedding = tf.Variable(initial_value=tf.random.uniform([1, 128]), trainable=True)\n",
    "\n",
    "    def call(self, inputs):\n",
    "        batch_size = tf.shape(inputs)[0]  # Get batch size from inputs\n",
    "        tiled_end_token_embedding = tf.tile(\n",
    "            self.end_token_embedding,  # Use the trainable variable\n",
    "            [batch_size, 1]  # Tile across the sequence length\n",
    "        )\n",
    "        output = tf.concat([inputs, tf.expand_dims(tiled_end_token_embedding, axis=1)], axis=1)\n",
    "        return output\n",
    "\n",
    "#class Embedding_Layer_class(Layer):\n",
    "#    def __init__(self, **kwargs):\n",
    "#        super(Embedding_Layer_class, self).__init__(**kwargs)\n",
    "#\n",
    "#    def build(self, input_shape):\n",
    "#        # Load embedding module from Tensorflow Hub\n",
    "#        self.embedding_layer = hub.KerasLayer(\"https://tfhub.dev/google/tf2-preview/nnlm-en-dim128/1\", \n",
    "#                                              output_shape=[128], input_shape=[], dtype=tf.string)\n",
    "#\n",
    "#    def call(self, inputs):\n",
    "#        # Load the 'end' token embedding\n",
    "#        end_token_embedding = self.embedding_layer(tf.constant(['end']))\n",
    "#        # Get the batch size\n",
    "#        inputs = tf.convert_to_tensor(inputs)\n",
    "#        batch_size = tf.shape(inputs)[0]\n",
    "#        # Tile the 'end' token embedding across the sequence length and batch size\n",
    "#        tiled_end_token_embedding = tf.tile(\n",
    "#            end_token_embedding,  # Add batch dimension\n",
    "#            [batch_size, 1]  # Tile across the sequence length\n",
    "#        )\n",
    "#        output = tf.concat([inputs, tf.expand_dims(tiled_end_token_embedding,axis=1)], axis=1)\n",
    "#        return output\n",
    "#"
   ]
  },
  {
   "cell_type": "code",
   "execution_count": 78,
   "metadata": {},
   "outputs": [],
   "source": [
    "\n",
    "sample_data_batch_eng = next(iter(batched_train_dataset))[0]\n",
    "embedded_layer = Embedding_Layer_class()\n",
    "output_embedded_layer = embedded_layer(sample_data_batch_eng)"
   ]
  },
  {
   "cell_type": "code",
   "execution_count": 79,
   "metadata": {},
   "outputs": [
    {
     "data": {
      "text/plain": [
       "TensorShape([16, 14, 128])"
      ]
     },
     "execution_count": 79,
     "metadata": {},
     "output_type": "execute_result"
    }
   ],
   "source": [
    "output_embedded_layer.shape"
   ]
  },
  {
   "cell_type": "markdown",
   "metadata": {},
   "source": [
    "## 4. Build the encoder network\n",
    "The encoder network follows the schematic diagram above. You should now build the RNN encoder model.\n",
    "* Using the functional API, build the encoder network according to the following spec:\n",
    "    * The model will take a batch of sequences of embedded English words as input, as given by the Dataset objects.\n",
    "    * The next layer in the encoder will be the custom layer you created previously, to add a learned end token embedding to the end of the English sequence.\n",
    "    * This is followed by a Masking layer, with the `mask_value` set to the distinct padding value you used when you padded the English sequences with the Dataset preprocessing above.\n",
    "    * The final layer is an LSTM layer with 512 units, which also returns the hidden and cell states.\n",
    "    * The encoder is a multi-output model. There should be two output Tensors of this model: the hidden state and cell states of the LSTM layer. The output of the LSTM layer is unused.\n",
    "* Using the Dataset `.take(1)` method, extract a batch of English data examples from the training Dataset and test the encoder model by calling it on the English data Tensor, and print the shape of the resulting Tensor outputs.\n",
    "* Print the model summary for the encoder network."
   ]
  },
  {
   "cell_type": "code",
   "execution_count": 81,
   "metadata": {},
   "outputs": [],
   "source": [
    "\n",
    "class EncoderModel(tf.keras.Model):\n",
    "    def __init__(self, embedding_dim=128):\n",
    "        super().__init__()\n",
    "        self.input_layer = tf.keras.layers.Input(shape=(None, 128))\n",
    "        self.embedding = Embedding_Layer_class()\n",
    "        self.masking_layer = tf.keras.layers.Masking(mask_value=-1)  # Replace with your padding value\n",
    "        self.lstm_layer = tf.keras.layers.LSTM(512, return_sequences=True, return_state=True)\n",
    "\n",
    "    def call(self, inputs):\n",
    "        embedded_inputs = self.embedding(inputs)\n",
    "        masked_inputs = self.masking_layer(embedded_inputs)\n",
    "        _, hidden_state, cell_state = self.lstm_layer(masked_inputs)\n",
    "        return hidden_state, cell_state\n"
   ]
  },
  {
   "cell_type": "code",
   "execution_count": 82,
   "metadata": {},
   "outputs": [],
   "source": [
    "\n",
    "embedding_layer_class = Embedding_Layer_class()\n",
    "sample_data_eng = next(iter(batched_train_dataset))[0]\n",
    "\n",
    "encoder_class = EncoderModel()\n"
   ]
  },
  {
   "cell_type": "code",
   "execution_count": 83,
   "metadata": {},
   "outputs": [
    {
     "data": {
      "text/plain": [
       "(TensorShape([16, 512]), TensorShape([16, 512]))"
      ]
     },
     "execution_count": 83,
     "metadata": {},
     "output_type": "execute_result"
    }
   ],
   "source": [
    "o_1, o_2 = encoder_class(sample_data_batch_eng)\n",
    "o_1.shape, o_2.shape"
   ]
  },
  {
   "cell_type": "code",
   "execution_count": 84,
   "metadata": {},
   "outputs": [
    {
     "name": "stdout",
     "output_type": "stream",
     "text": [
      "Model: \"encoder_model_4\"\n",
      "_________________________________________________________________\n",
      " Layer (type)                Output Shape              Param #   \n",
      "=================================================================\n",
      " embedding__layer_class_8 (E  multiple                 124642816 \n",
      " mbedding_Layer_class)                                           \n",
      "                                                                 \n",
      " masking_4 (Masking)         multiple                  0         \n",
      "                                                                 \n",
      " lstm_7 (LSTM)               multiple                  1312768   \n",
      "                                                                 \n",
      "=================================================================\n",
      "Total params: 125,955,584\n",
      "Trainable params: 1,312,896\n",
      "Non-trainable params: 124,642,688\n",
      "_________________________________________________________________\n"
     ]
    }
   ],
   "source": [
    "encoder_class.summary()"
   ]
  },
  {
   "cell_type": "markdown",
   "metadata": {},
   "source": [
    "## 5. Build the decoder network\n",
    "The decoder network follows the schematic diagram below. \n",
    "\n",
    "![Decoder schematic](data/neural_translation_model_decoder.png)"
   ]
  },
  {
   "cell_type": "markdown",
   "metadata": {},
   "source": [
    "You should now build the RNN decoder model.\n",
    "* Using Model subclassing, build the decoder network according to the following spec:\n",
    "    * The initializer should create the following layers:\n",
    "        * An Embedding layer with vocabulary size set to the number of unique German tokens, embedding dimension 128, and set to mask zero values in the input.\n",
    "        * An LSTM layer with 512 units, that returns its hidden and cell states, and also returns sequences.\n",
    "        * A Dense layer with number of units equal to the number of unique German tokens, and no activation function.\n",
    "    * The call method should include the usual `inputs` argument, as well as the additional keyword arguments `hidden_state` and `cell_state`. The default value for these keyword arguments should be `None`.\n",
    "    * The call method should pass the inputs through the Embedding layer, and then through the LSTM layer. If the `hidden_state` and `cell_state` arguments are provided, these should be used for the initial state of the LSTM layer. _Hint: use the_ `initial_state` _keyword argument when calling the LSTM layer on its input._\n",
    "    * The call method should pass the LSTM output sequence through the Dense layer, and return the resulting Tensor, along with the hidden and cell states of the LSTM layer.\n",
    "* Using the Dataset `.take(1)` method, extract a batch of English and German data examples from the training Dataset. Test the decoder model by first calling the encoder model on the English data Tensor to get the hidden and cell states, and then call the decoder model on the German data Tensor and hidden and cell states, and print the shape of the resulting decoder Tensor outputs.\n",
    "* Print the model summary for the decoder network."
   ]
  },
  {
   "cell_type": "code",
   "execution_count": 85,
   "metadata": {},
   "outputs": [],
   "source": [
    "\n",
    "vocab_size_ger = len(tokenizer.word_index) + 1\n",
    "class DecoderNetwork(tf.keras.Model):\n",
    "    def __init__(self, vocab_size=vocab_size_ger, embedding_dim=128):\n",
    "        super(DecoderNetwork, self).__init__()\n",
    "        self.embedding = tf.keras.layers.Embedding(vocab_size, embedding_dim, mask_zero=True)\n",
    "        self.lstm = tf.keras.layers.LSTM(512, return_sequences=True, return_state=True)\n",
    "        self.dense = tf.keras.layers.Dense(vocab_size)\n",
    "\n",
    "    def call(self, inputs, hidden_state=None, cell_state=None):\n",
    "        embedded_inputs = self.embedding(inputs)\n",
    "        lstm_outputs, hidden_state, cell_state = self.lstm(embedded_inputs, initial_state=(hidden_state, cell_state))\n",
    "        predictions = self.dense(lstm_outputs)\n",
    "        return predictions, hidden_state, cell_state\n",
    "\n",
    "\n"
   ]
  },
  {
   "cell_type": "code",
   "execution_count": 86,
   "metadata": {},
   "outputs": [],
   "source": [
    "\n",
    "data=next(iter(batched_train_dataset.take(1)))\n",
    "english_data = data[0]\n",
    "german_data = data[1]\n",
    "data=next(iter(batched_train_dataset.take(1)))\n",
    "english_data = data[0]\n",
    "german_data = data[1]\n",
    "encoder_hidden_state, encoder_cell_state = EncoderModel()(english_data)"
   ]
  },
  {
   "cell_type": "code",
   "execution_count": 87,
   "metadata": {},
   "outputs": [
    {
     "name": "stdout",
     "output_type": "stream",
     "text": [
      "(16, 13, 5746)\n"
     ]
    }
   ],
   "source": [
    "\n",
    "decoder = DecoderNetwork()\n",
    "# Call the decoder model on the German data Tensor\n",
    "decoder_outputs, decoder_hidden_state, decoder_cell_state = decoder(german_data, hidden_state=encoder_hidden_state, cell_state=encoder_cell_state)\n",
    "print(decoder_outputs.shape)"
   ]
  },
  {
   "cell_type": "markdown",
   "metadata": {},
   "source": [
    "## 6. Make a custom training loop\n",
    "You should now write a custom training loop to train your custom neural translation model.\n",
    "* Define a function that takes a Tensor batch of German data (as extracted from the training Dataset), and returns a tuple containing German inputs and outputs for the decoder model (refer to schematic diagram above).\n",
    "* Define a function that computes the forward and backward pass for your translation model. This function should take an English input, German input and German output as arguments, and should do the following:\n",
    "    * Pass the English input into the encoder, to get the hidden and cell states of the encoder LSTM.\n",
    "    * These hidden and cell states are then passed into the decoder, along with the German inputs, which returns a sequence of outputs (the hidden and cell state outputs of the decoder LSTM are unused in this function).\n",
    "    * The loss should then be computed between the decoder outputs and the German output function argument.\n",
    "    * The function returns the loss and gradients with respect to the encoder and decoder’s trainable variables.\n",
    "    * Decorate the function with @tf.function\n",
    "* Define and run a custom training loop for a number of epochs (for you to choose) that does the following:\n",
    "    * Iterates through the training dataset, and creates decoder inputs and outputs from the German sequences.\n",
    "    * Updates the parameters of the translation model using the gradients of the function above and an optimizer object.\n",
    "    * Every epoch, compute the validation loss on a number of batches from the validation and save the epoch training and validation losses.\n",
    "* Plot the learning curves for loss vs epoch for both training and validation sets.\n",
    "\n",
    "_Hint: This model is computationally demanding to train. The quality of the model or length of training is not a factor in the grading rubric. However, to obtain a better model we recommend using the GPU accelerator hardware on Colab._"
   ]
  },
  {
   "cell_type": "code",
   "execution_count": 88,
   "metadata": {},
   "outputs": [],
   "source": [
    "\n",
    "def german_outs(german_data):\n",
    "    german_input = german_data[:,:-1]\n",
    "    german_output = german_data[:,1:]\n",
    "    return german_input, german_output"
   ]
  },
  {
   "cell_type": "code",
   "execution_count": 89,
   "metadata": {},
   "outputs": [],
   "source": [
    "\n",
    "optimizer = tf.keras.optimizers.RMSprop()\n",
    "decoder_model = DecoderNetwork()\n",
    "encoder_model = EncoderModel()\n",
    "loss_fn = tf.keras.losses.SparseCategoricalCrossentropy(from_logits=True)"
   ]
  },
  {
   "cell_type": "code",
   "execution_count": 106,
   "metadata": {},
   "outputs": [],
   "source": [
    "\n",
    "#@tf.function\n",
    "def forward_backward_pass(english_input, german_input, german_output, loss_obj, encoder_obj, decoder_obj):\n",
    "    with tf.GradientTape() as tape:\n",
    "        hidden_state, cell_state = encoder_obj(english_input)\n",
    "\n",
    "        decoder_outputs, _, _ = decoder_obj(german_input, hidden_state=hidden_state, cell_state=cell_state)\n",
    "\n",
    "    # Cast decoder_outputs to the data type of german_output\n",
    "\n",
    "    #german_output = tf.cast(german_output, dtype=decoder_outputs.dtype)\n",
    "    #all_variables = tf.nest.flatten(encoder_obj.trainable_variables + decoder_obj.trainable_variables)\n",
    "        print('trainable variables:', tf.nest.flatten(encoder_obj.trainable_variables + decoder_obj.trainable_variables))\n",
    "\n",
    "\n",
    "    # Compute gradients manually using tf.gradient\n",
    "        loss_value = loss_obj(german_output, decoder_outputs)\n",
    "        mean_loss = tf.reduce_mean(loss_value)\n",
    "        #print('mean loss:', mean_loss)\n",
    "        gradient = [tape.gradient(mean_loss, var) for var in encoder_obj.trainable_variables + decoder_obj.trainable_variables]\n",
    "\n",
    "#        gradient = tape.gradient(mean_loss, tf.nest.flatten(encoder_obj.trainable_variables + decoder_obj.trainable_variables))\n",
    "\n",
    "        for grad, var in zip(gradient, tf.nest.flatten(encoder_obj.trainable_variables + decoder_obj.trainable_variables)):\n",
    "            print(f'Gradient for {var.name}: {grad}')\n",
    "    return mean_loss, gradient"
   ]
  },
  {
   "cell_type": "code",
   "execution_count": 109,
   "metadata": {},
   "outputs": [],
   "source": [
    "\n",
    "def training_loop(dataset, val_dataset, epochs, grad_fn, loss_obj, encoder_obj, decoder_obj, optim_obj):\n",
    "    train_losses = []    \n",
    "    val_losses = []\n",
    "\n",
    "    for epoch in range(epochs):\n",
    "        epoch_loss_avg = tf.keras.metrics.Mean()\n",
    "        print('epoch:', epoch)\n",
    "        for eng_data, german_data in dataset:\n",
    "            germ_input, germ_output = german_outs(german_data=german_data)\n",
    "\n",
    "            mean_loss, gradient = grad_fn(eng_data, germ_input, germ_output, loss_obj, encoder_obj, decoder_obj)\n",
    "            #gradient = [tf.convert_to_tensor(g) if g is not None else None for g in gradient]\n",
    "            optim_obj.apply_gradients(zip(gradient, tf.nest.flatten(encoder_obj.trainable_variables + decoder_obj.trainable_variables)))\n",
    "            \n",
    "            epoch_loss_avg(mean_loss)\n",
    "\n",
    "        train_losses.append(epoch_loss_avg.result())\n",
    "\n",
    "        # Validation\n",
    "        val_loss_avg = tf.keras.metrics.Mean()\n",
    "        for val_eng_data, val_german_data in val_dataset:\n",
    "            val_germ_input, val_germ_output = german_outs(val_german_data)\n",
    "\n",
    "            val_mean_loss, _ = grad_fn(val_eng_data, val_germ_input, val_germ_output, loss_obj, encoder_obj, decoder_obj)\n",
    "\n",
    "            val_loss_avg(val_mean_loss)\n",
    "\n",
    "        val_losses.append(val_loss_avg.result())\n",
    "\n",
    "        print(\"Epoch {}: Training Loss: {:.4f}, Validation Loss: {:.4f}\".format(epoch, epoch_loss_avg.result(), val_loss_avg.result()))\n",
    "\n",
    "    return train_losses, val_losses\n"
   ]
  },
  {
   "cell_type": "code",
   "execution_count": 110,
   "metadata": {},
   "outputs": [
    {
     "name": "stdout",
     "output_type": "stream",
     "text": [
      "epoch: 0\n",
      "trainable variables: [<tf.Variable 'Variable:0' shape=(1, 128) dtype=float32, numpy=\n",
      "array([[0.41994023, 0.13174438, 0.30766904, 0.3508879 , 0.12855184,\n",
      "        0.10586417, 0.8486258 , 0.9067781 , 0.93516874, 0.10087538,\n",
      "        0.8060719 , 0.979203  , 0.5533979 , 0.32789028, 0.05007434,\n",
      "        0.773085  , 0.8148911 , 0.0137924 , 0.96738994, 0.7330539 ,\n",
      "        0.9520906 , 0.03202343, 0.9939234 , 0.02844405, 0.9036627 ,\n",
      "        0.44223547, 0.5123595 , 0.5743748 , 0.52296424, 0.7613176 ,\n",
      "        0.5420103 , 0.35760176, 0.9791    , 0.24486768, 0.9679347 ,\n",
      "        0.703635  , 0.12343478, 0.64792335, 0.24930716, 0.621333  ,\n",
      "        0.24185729, 0.93071055, 0.37672257, 0.4831221 , 0.00672877,\n",
      "        0.0384115 , 0.6450989 , 0.57856834, 0.4816606 , 0.57952726,\n",
      "        0.7033075 , 0.13766134, 0.86197543, 0.9280298 , 0.09775603,\n",
      "        0.77230203, 0.01409829, 0.62153363, 0.44402707, 0.700397  ,\n",
      "        0.7227044 , 0.92150736, 0.08288491, 0.7559185 , 0.8141806 ,\n",
      "        0.23712623, 0.42960083, 0.2438451 , 0.09818101, 0.02829599,\n",
      "        0.26242137, 0.7956331 , 0.8842567 , 0.6742213 , 0.9366821 ,\n",
      "        0.13587546, 0.21658814, 0.5656769 , 0.44622064, 0.00774229,\n",
      "        0.36038792, 0.09058142, 0.56893814, 0.37727642, 0.02817714,\n",
      "        0.7409358 , 0.6991321 , 0.43442547, 0.628484  , 0.6600169 ,\n",
      "        0.23167682, 0.57041216, 0.24924493, 0.5472251 , 0.5493195 ,\n",
      "        0.27333474, 0.32870138, 0.9141046 , 0.5309731 , 0.7245709 ,\n",
      "        0.25071204, 0.5659952 , 0.33587837, 0.71753263, 0.3483883 ,\n",
      "        0.06739569, 0.04308987, 0.25570238, 0.14408112, 0.11759627,\n",
      "        0.79125464, 0.5103016 , 0.2924546 , 0.30781317, 0.06641829,\n",
      "        0.05922365, 0.69952965, 0.5387765 , 0.38378763, 0.2101798 ,\n",
      "        0.723446  , 0.00366437, 0.19945788, 0.05919373, 0.32409632,\n",
      "        0.56992376, 0.5425434 , 0.17248797]], dtype=float32)>, <tf.Variable 'encoder_model_6/lstm_11/lstm_cell_11/kernel:0' shape=(128, 2048) dtype=float32, numpy=\n",
      "array([[ 0.04288175,  0.05198163, -0.0363625 , ..., -0.00996914,\n",
      "        -0.01310388,  0.04494598],\n",
      "       [-0.00751894,  0.01936043,  0.00854551, ...,  0.02357345,\n",
      "         0.02726526,  0.05056136],\n",
      "       [ 0.04856066, -0.02626503,  0.05022123, ..., -0.04554265,\n",
      "         0.02555499, -0.01821411],\n",
      "       ...,\n",
      "       [-0.00747935, -0.02219386, -0.04184157, ..., -0.04721707,\n",
      "         0.0479051 , -0.0364467 ],\n",
      "       [-0.02900624, -0.04140158,  0.01503963, ...,  0.01856426,\n",
      "        -0.01991902,  0.04484933],\n",
      "       [-0.03275583, -0.04839066, -0.00434903, ...,  0.00185777,\n",
      "        -0.00643368,  0.01116676]], dtype=float32)>, <tf.Variable 'encoder_model_6/lstm_11/lstm_cell_11/recurrent_kernel:0' shape=(512, 2048) dtype=float32, numpy=\n",
      "array([[-3.87465954e-03, -9.09207761e-03, -9.88678820e-03, ...,\n",
      "        -4.08386393e-03, -2.40138397e-02,  8.59548163e-04],\n",
      "       [-3.22982669e-05,  1.11516714e-02, -9.86925047e-03, ...,\n",
      "        -2.80445814e-03,  3.16361561e-02, -1.75414868e-02],\n",
      "       [ 1.80280767e-04, -1.29925385e-02, -8.74364376e-03, ...,\n",
      "        -3.05010541e-03, -4.06155214e-02,  1.88547783e-02],\n",
      "       ...,\n",
      "       [ 7.14935828e-03,  3.25656869e-03, -2.54335515e-02, ...,\n",
      "         6.34200871e-03, -2.68270206e-02,  2.82373615e-02],\n",
      "       [-1.92922056e-02, -1.53989885e-02,  2.53119413e-02, ...,\n",
      "         1.82757862e-02,  1.42800938e-02,  8.35176371e-03],\n",
      "       [-2.16102656e-02,  2.08110828e-03,  1.80095807e-02, ...,\n",
      "         2.85964645e-02, -1.20146200e-04, -3.00422311e-02]], dtype=float32)>, <tf.Variable 'encoder_model_6/lstm_11/lstm_cell_11/bias:0' shape=(2048,) dtype=float32, numpy=array([0., 0., 0., ..., 0., 0., 0.], dtype=float32)>, <tf.Variable 'decoder_network_4/embedding_4/embeddings:0' shape=(5746, 128) dtype=float32, numpy=\n",
      "array([[ 0.0030903 ,  0.00258394, -0.00173368, ..., -0.04986103,\n",
      "        -0.00934267, -0.04761974],\n",
      "       [ 0.01573569, -0.00974462, -0.0207628 , ...,  0.03231842,\n",
      "         0.04281851, -0.04251242],\n",
      "       [ 0.00340433, -0.02906754,  0.00652269, ..., -0.02294443,\n",
      "         0.03556838,  0.02774978],\n",
      "       ...,\n",
      "       [ 0.04917941,  0.03683443, -0.0224184 , ..., -0.0350801 ,\n",
      "        -0.02066373,  0.0362849 ],\n",
      "       [-0.03373817,  0.02233067,  0.04107243, ..., -0.00597227,\n",
      "        -0.0215656 ,  0.03915241],\n",
      "       [ 0.00682112,  0.00055621,  0.04008719, ...,  0.02344675,\n",
      "         0.01163309,  0.03374697]], dtype=float32)>, <tf.Variable 'decoder_network_4/lstm_10/lstm_cell_10/kernel:0' shape=(128, 2048) dtype=float32, numpy=\n",
      "array([[-0.03863971,  0.00747288,  0.03622191, ...,  0.01288996,\n",
      "        -0.00871716, -0.03818826],\n",
      "       [-0.02801367, -0.02768518,  0.00246428, ..., -0.05117352,\n",
      "         0.05197547, -0.04964834],\n",
      "       [-0.00599067, -0.00523954, -0.01636446, ..., -0.02832543,\n",
      "         0.03119284, -0.00695604],\n",
      "       ...,\n",
      "       [-0.04291079,  0.01058463,  0.03383743, ..., -0.00895839,\n",
      "        -0.03629481, -0.02957503],\n",
      "       [-0.01445109, -0.00269427,  0.01710786, ..., -0.01417455,\n",
      "         0.00498546,  0.00675898],\n",
      "       [-0.01009019, -0.04359527,  0.02653806, ...,  0.04065031,\n",
      "         0.00290744,  0.02643197]], dtype=float32)>, <tf.Variable 'decoder_network_4/lstm_10/lstm_cell_10/recurrent_kernel:0' shape=(512, 2048) dtype=float32, numpy=\n",
      "array([[-0.00591552, -0.02469987,  0.04154498, ..., -0.0110003 ,\n",
      "        -0.03196029,  0.03302894],\n",
      "       [-0.00153867, -0.01393819,  0.00429956, ...,  0.00360226,\n",
      "         0.03094773, -0.00755507],\n",
      "       [-0.00012868,  0.01132854,  0.01400793, ..., -0.00078127,\n",
      "         0.02094854,  0.01424691],\n",
      "       ...,\n",
      "       [ 0.01582936,  0.02091513,  0.00667277, ...,  0.00565059,\n",
      "         0.01656326, -0.01936312],\n",
      "       [-0.02758954,  0.0184545 , -0.03127967, ..., -0.02186684,\n",
      "         0.01348378, -0.03717391],\n",
      "       [-0.02354605,  0.01806417, -0.0288507 , ...,  0.01143249,\n",
      "         0.01111989,  0.0139601 ]], dtype=float32)>, <tf.Variable 'decoder_network_4/lstm_10/lstm_cell_10/bias:0' shape=(2048,) dtype=float32, numpy=array([0., 0., 0., ..., 0., 0., 0.], dtype=float32)>, <tf.Variable 'decoder_network_4/dense_4/kernel:0' shape=(512, 5746) dtype=float32, numpy=\n",
      "array([[ 0.01354721, -0.00798031, -0.02034262, ..., -0.01665952,\n",
      "        -0.02517023,  0.02001882],\n",
      "       [ 0.02842606, -0.01199307, -0.01933719, ...,  0.00147055,\n",
      "        -0.00097457,  0.00459324],\n",
      "       [ 0.00864607, -0.01338636, -0.02157673, ...,  0.0239626 ,\n",
      "         0.01553621, -0.0063779 ],\n",
      "       ...,\n",
      "       [ 0.0287136 ,  0.00997564,  0.01378201, ..., -0.03081142,\n",
      "        -0.00284448,  0.00866516],\n",
      "       [-0.01872589,  0.0147717 , -0.02546813, ..., -0.01051892,\n",
      "        -0.02683771,  0.01816343],\n",
      "       [ 0.00345155, -0.00754221, -0.00993714, ..., -0.02280624,\n",
      "         0.00898668,  0.02440616]], dtype=float32)>, <tf.Variable 'decoder_network_4/dense_4/bias:0' shape=(5746,) dtype=float32, numpy=array([0., 0., 0., ..., 0., 0., 0.], dtype=float32)>]\n"
     ]
    },
    {
     "ename": "ValueError",
     "evalue": "`labels.shape` must equal `logits.shape` except for the last dimension. Received: labels.shape=(16, 12) and logits.shape=(16, 13, 5746)",
     "output_type": "error",
     "traceback": [
      "\u001b[1;31m---------------------------------------------------------------------------\u001b[0m",
      "\u001b[1;31mValueError\u001b[0m                                Traceback (most recent call last)",
      "\u001b[1;32m~\\AppData\\Local\\Temp\\ipykernel_27944\\3280676639.py\u001b[0m in \u001b[0;36m<module>\u001b[1;34m\u001b[0m\n\u001b[0;32m      1\u001b[0m loss_train, loss_val = training_loop(batched_train_dataset, batched_val_dataset, epochs=1,\n\u001b[1;32m----> 2\u001b[1;33m                                       loss_obj=loss_fn, grad_fn=forward_backward_pass, encoder_obj=encoder_model,decoder_obj=decoder_model, optim_obj=optimizer)\n\u001b[0m",
      "\u001b[1;32m~\\AppData\\Local\\Temp\\ipykernel_27944\\1238105097.py\u001b[0m in \u001b[0;36mtraining_loop\u001b[1;34m(dataset, val_dataset, epochs, grad_fn, loss_obj, encoder_obj, decoder_obj, optim_obj)\u001b[0m\n\u001b[0;32m     29\u001b[0m         \u001b[1;32mfor\u001b[0m \u001b[0meng_data\u001b[0m\u001b[1;33m,\u001b[0m \u001b[0mgerman_data\u001b[0m \u001b[1;32min\u001b[0m \u001b[0mdataset\u001b[0m\u001b[1;33m:\u001b[0m\u001b[1;33m\u001b[0m\u001b[1;33m\u001b[0m\u001b[0m\n\u001b[0;32m     30\u001b[0m             \u001b[1;31m# ... (batch creation)\u001b[0m\u001b[1;33m\u001b[0m\u001b[1;33m\u001b[0m\u001b[1;33m\u001b[0m\u001b[0m\n\u001b[1;32m---> 31\u001b[1;33m             \u001b[0mbatch_mean_loss\u001b[0m\u001b[1;33m,\u001b[0m \u001b[0mgradients\u001b[0m \u001b[1;33m=\u001b[0m \u001b[0mbatch_grad_fn\u001b[0m\u001b[1;33m(\u001b[0m\u001b[0meng_data\u001b[0m\u001b[1;33m,\u001b[0m \u001b[0mgerman_data\u001b[0m\u001b[1;33m,\u001b[0m \u001b[0mloss_obj\u001b[0m\u001b[1;33m,\u001b[0m \u001b[0mencoder_obj\u001b[0m\u001b[1;33m,\u001b[0m \u001b[0mdecoder_obj\u001b[0m\u001b[1;33m)\u001b[0m\u001b[1;33m\u001b[0m\u001b[1;33m\u001b[0m\u001b[0m\n\u001b[0m\u001b[0;32m     32\u001b[0m             \u001b[1;31m# ... (optimizer update using batch loss and gradients\u001b[0m\u001b[1;33m\u001b[0m\u001b[1;33m\u001b[0m\u001b[1;33m\u001b[0m\u001b[0m\n\u001b[0;32m     33\u001b[0m             \u001b[1;31m#gradient = [tf.convert_to_tensor(g) if g is not None else None for g in gradient]\u001b[0m\u001b[1;33m\u001b[0m\u001b[1;33m\u001b[0m\u001b[1;33m\u001b[0m\u001b[0m\n",
      "\u001b[1;32m~\\AppData\\Local\\Temp\\ipykernel_27944\\1238105097.py\u001b[0m in \u001b[0;36mbatch_grad_fn\u001b[1;34m(english_data, german_data, loss_obj, encoder_obj, decoder_obj)\u001b[0m\n\u001b[0;32m      9\u001b[0m     \u001b[0mprint\u001b[0m\u001b[1;33m(\u001b[0m\u001b[1;34m'trainable variables:'\u001b[0m\u001b[1;33m,\u001b[0m \u001b[0mtf\u001b[0m\u001b[1;33m.\u001b[0m\u001b[0mnest\u001b[0m\u001b[1;33m.\u001b[0m\u001b[0mflatten\u001b[0m\u001b[1;33m(\u001b[0m\u001b[0mencoder_obj\u001b[0m\u001b[1;33m.\u001b[0m\u001b[0mtrainable_variables\u001b[0m \u001b[1;33m+\u001b[0m \u001b[0mdecoder_obj\u001b[0m\u001b[1;33m.\u001b[0m\u001b[0mtrainable_variables\u001b[0m\u001b[1;33m)\u001b[0m\u001b[1;33m)\u001b[0m\u001b[1;33m\u001b[0m\u001b[1;33m\u001b[0m\u001b[0m\n\u001b[0;32m     10\u001b[0m \u001b[1;33m\u001b[0m\u001b[0m\n\u001b[1;32m---> 11\u001b[1;33m     \u001b[0mloss_value\u001b[0m \u001b[1;33m=\u001b[0m \u001b[0mloss_obj\u001b[0m\u001b[1;33m(\u001b[0m\u001b[0mgerman_output\u001b[0m\u001b[1;33m,\u001b[0m \u001b[0mdecoder_outputs\u001b[0m\u001b[1;33m)\u001b[0m\u001b[1;33m\u001b[0m\u001b[1;33m\u001b[0m\u001b[0m\n\u001b[0m\u001b[0;32m     12\u001b[0m     \u001b[1;31m#print('mean loss:', mean_loss)\u001b[0m\u001b[1;33m\u001b[0m\u001b[1;33m\u001b[0m\u001b[1;33m\u001b[0m\u001b[0m\n\u001b[0;32m     13\u001b[0m     \u001b[1;32mwith\u001b[0m \u001b[0mtf\u001b[0m\u001b[1;33m.\u001b[0m\u001b[0mGradientTape\u001b[0m\u001b[1;33m(\u001b[0m\u001b[1;33m)\u001b[0m \u001b[1;32mas\u001b[0m \u001b[0mtape\u001b[0m\u001b[1;33m:\u001b[0m\u001b[1;33m\u001b[0m\u001b[1;33m\u001b[0m\u001b[0m\n",
      "\u001b[1;32mc:\\Users\\krute\\anaconda3\\envs\\tens\\lib\\site-packages\\keras\\losses.py\u001b[0m in \u001b[0;36m__call__\u001b[1;34m(self, y_true, y_pred, sample_weight)\u001b[0m\n\u001b[0;32m    150\u001b[0m                     \u001b[0mself\u001b[0m\u001b[1;33m.\u001b[0m\u001b[0mcall\u001b[0m\u001b[1;33m,\u001b[0m \u001b[0mtf\u001b[0m\u001b[1;33m.\u001b[0m\u001b[0m__internal__\u001b[0m\u001b[1;33m.\u001b[0m\u001b[0mautograph\u001b[0m\u001b[1;33m.\u001b[0m\u001b[0mcontrol_status_ctx\u001b[0m\u001b[1;33m(\u001b[0m\u001b[1;33m)\u001b[0m\u001b[1;33m\u001b[0m\u001b[1;33m\u001b[0m\u001b[0m\n\u001b[0;32m    151\u001b[0m                 )\n\u001b[1;32m--> 152\u001b[1;33m             \u001b[0mlosses\u001b[0m \u001b[1;33m=\u001b[0m \u001b[0mcall_fn\u001b[0m\u001b[1;33m(\u001b[0m\u001b[0my_true\u001b[0m\u001b[1;33m,\u001b[0m \u001b[0my_pred\u001b[0m\u001b[1;33m)\u001b[0m\u001b[1;33m\u001b[0m\u001b[1;33m\u001b[0m\u001b[0m\n\u001b[0m\u001b[0;32m    153\u001b[0m             \u001b[0mmask\u001b[0m \u001b[1;33m=\u001b[0m \u001b[0mlosses_utils\u001b[0m\u001b[1;33m.\u001b[0m\u001b[0mget_mask\u001b[0m\u001b[1;33m(\u001b[0m\u001b[0mlosses\u001b[0m\u001b[1;33m)\u001b[0m\u001b[1;33m\u001b[0m\u001b[1;33m\u001b[0m\u001b[0m\n\u001b[0;32m    154\u001b[0m             \u001b[0mreduction\u001b[0m \u001b[1;33m=\u001b[0m \u001b[0mself\u001b[0m\u001b[1;33m.\u001b[0m\u001b[0m_get_reduction\u001b[0m\u001b[1;33m(\u001b[0m\u001b[1;33m)\u001b[0m\u001b[1;33m\u001b[0m\u001b[1;33m\u001b[0m\u001b[0m\n",
      "\u001b[1;32mc:\\Users\\krute\\anaconda3\\envs\\tens\\lib\\site-packages\\keras\\losses.py\u001b[0m in \u001b[0;36mcall\u001b[1;34m(self, y_true, y_pred)\u001b[0m\n\u001b[0;32m    270\u001b[0m             \u001b[0mself\u001b[0m\u001b[1;33m.\u001b[0m\u001b[0mfn\u001b[0m\u001b[1;33m,\u001b[0m \u001b[0mtf\u001b[0m\u001b[1;33m.\u001b[0m\u001b[0m__internal__\u001b[0m\u001b[1;33m.\u001b[0m\u001b[0mautograph\u001b[0m\u001b[1;33m.\u001b[0m\u001b[0mcontrol_status_ctx\u001b[0m\u001b[1;33m(\u001b[0m\u001b[1;33m)\u001b[0m\u001b[1;33m\u001b[0m\u001b[1;33m\u001b[0m\u001b[0m\n\u001b[0;32m    271\u001b[0m         )\n\u001b[1;32m--> 272\u001b[1;33m         \u001b[1;32mreturn\u001b[0m \u001b[0mag_fn\u001b[0m\u001b[1;33m(\u001b[0m\u001b[0my_true\u001b[0m\u001b[1;33m,\u001b[0m \u001b[0my_pred\u001b[0m\u001b[1;33m,\u001b[0m \u001b[1;33m**\u001b[0m\u001b[0mself\u001b[0m\u001b[1;33m.\u001b[0m\u001b[0m_fn_kwargs\u001b[0m\u001b[1;33m)\u001b[0m\u001b[1;33m\u001b[0m\u001b[1;33m\u001b[0m\u001b[0m\n\u001b[0m\u001b[0;32m    273\u001b[0m \u001b[1;33m\u001b[0m\u001b[0m\n\u001b[0;32m    274\u001b[0m     \u001b[1;32mdef\u001b[0m \u001b[0mget_config\u001b[0m\u001b[1;33m(\u001b[0m\u001b[0mself\u001b[0m\u001b[1;33m)\u001b[0m\u001b[1;33m:\u001b[0m\u001b[1;33m\u001b[0m\u001b[1;33m\u001b[0m\u001b[0m\n",
      "\u001b[1;32mc:\\Users\\krute\\anaconda3\\envs\\tens\\lib\\site-packages\\tensorflow\\python\\util\\traceback_utils.py\u001b[0m in \u001b[0;36merror_handler\u001b[1;34m(*args, **kwargs)\u001b[0m\n\u001b[0;32m    151\u001b[0m     \u001b[1;32mexcept\u001b[0m \u001b[0mException\u001b[0m \u001b[1;32mas\u001b[0m \u001b[0me\u001b[0m\u001b[1;33m:\u001b[0m\u001b[1;33m\u001b[0m\u001b[1;33m\u001b[0m\u001b[0m\n\u001b[0;32m    152\u001b[0m       \u001b[0mfiltered_tb\u001b[0m \u001b[1;33m=\u001b[0m \u001b[0m_process_traceback_frames\u001b[0m\u001b[1;33m(\u001b[0m\u001b[0me\u001b[0m\u001b[1;33m.\u001b[0m\u001b[0m__traceback__\u001b[0m\u001b[1;33m)\u001b[0m\u001b[1;33m\u001b[0m\u001b[1;33m\u001b[0m\u001b[0m\n\u001b[1;32m--> 153\u001b[1;33m       \u001b[1;32mraise\u001b[0m \u001b[0me\u001b[0m\u001b[1;33m.\u001b[0m\u001b[0mwith_traceback\u001b[0m\u001b[1;33m(\u001b[0m\u001b[0mfiltered_tb\u001b[0m\u001b[1;33m)\u001b[0m \u001b[1;32mfrom\u001b[0m \u001b[1;32mNone\u001b[0m\u001b[1;33m\u001b[0m\u001b[1;33m\u001b[0m\u001b[0m\n\u001b[0m\u001b[0;32m    154\u001b[0m     \u001b[1;32mfinally\u001b[0m\u001b[1;33m:\u001b[0m\u001b[1;33m\u001b[0m\u001b[1;33m\u001b[0m\u001b[0m\n\u001b[0;32m    155\u001b[0m       \u001b[1;32mdel\u001b[0m \u001b[0mfiltered_tb\u001b[0m\u001b[1;33m\u001b[0m\u001b[1;33m\u001b[0m\u001b[0m\n",
      "\u001b[1;32mc:\\Users\\krute\\anaconda3\\envs\\tens\\lib\\site-packages\\keras\\losses.py\u001b[0m in \u001b[0;36msparse_categorical_crossentropy\u001b[1;34m(y_true, y_pred, from_logits, axis, ignore_class)\u001b[0m\n\u001b[0;32m   2087\u001b[0m         \u001b[0mfrom_logits\u001b[0m\u001b[1;33m=\u001b[0m\u001b[0mfrom_logits\u001b[0m\u001b[1;33m,\u001b[0m\u001b[1;33m\u001b[0m\u001b[1;33m\u001b[0m\u001b[0m\n\u001b[0;32m   2088\u001b[0m         \u001b[0mignore_class\u001b[0m\u001b[1;33m=\u001b[0m\u001b[0mignore_class\u001b[0m\u001b[1;33m,\u001b[0m\u001b[1;33m\u001b[0m\u001b[1;33m\u001b[0m\u001b[0m\n\u001b[1;32m-> 2089\u001b[1;33m         \u001b[0maxis\u001b[0m\u001b[1;33m=\u001b[0m\u001b[0maxis\u001b[0m\u001b[1;33m,\u001b[0m\u001b[1;33m\u001b[0m\u001b[1;33m\u001b[0m\u001b[0m\n\u001b[0m\u001b[0;32m   2090\u001b[0m     )\n\u001b[0;32m   2091\u001b[0m \u001b[1;33m\u001b[0m\u001b[0m\n",
      "\u001b[1;32mc:\\Users\\krute\\anaconda3\\envs\\tens\\lib\\site-packages\\keras\\backend.py\u001b[0m in \u001b[0;36msparse_categorical_crossentropy\u001b[1;34m(target, output, from_logits, axis, ignore_class)\u001b[0m\n\u001b[0;32m   5633\u001b[0m     \u001b[1;32melse\u001b[0m\u001b[1;33m:\u001b[0m\u001b[1;33m\u001b[0m\u001b[1;33m\u001b[0m\u001b[0m\n\u001b[0;32m   5634\u001b[0m         res = tf.nn.sparse_softmax_cross_entropy_with_logits(\n\u001b[1;32m-> 5635\u001b[1;33m             \u001b[0mlabels\u001b[0m\u001b[1;33m=\u001b[0m\u001b[0mtarget\u001b[0m\u001b[1;33m,\u001b[0m \u001b[0mlogits\u001b[0m\u001b[1;33m=\u001b[0m\u001b[0moutput\u001b[0m\u001b[1;33m\u001b[0m\u001b[1;33m\u001b[0m\u001b[0m\n\u001b[0m\u001b[0;32m   5636\u001b[0m         )\n\u001b[0;32m   5637\u001b[0m \u001b[1;33m\u001b[0m\u001b[0m\n",
      "\u001b[1;31mValueError\u001b[0m: `labels.shape` must equal `logits.shape` except for the last dimension. Received: labels.shape=(16, 12) and logits.shape=(16, 13, 5746)"
     ]
    }
   ],
   "source": [
    "\n",
    "loss_train, loss_val = training_loop(batched_train_dataset, batched_val_dataset, epochs=1,\n",
    "                                      loss_obj=loss_fn, grad_fn=forward_backward_pass, encoder_obj=encoder_model,decoder_obj=decoder_model, optim_obj=optimizer)"
   ]
  },
  {
   "cell_type": "code",
   "execution_count": null,
   "metadata": {},
   "outputs": [],
   "source": [
    "import matplotlib.pyplot as plt\n",
    "\n",
    "plt.plot(loss_train, label='Training')\n",
    "plt.plot(loss_val, label='Validation')\n",
    "plt.xlabel('epochs')\n",
    "plt.ylabel('Loss')\n",
    "plt.legend()\n",
    "plt.show()"
   ]
  },
  {
   "cell_type": "markdown",
   "metadata": {},
   "source": [
    "## 7. Use the model to translate\n",
    "Now it's time to put your model into practice! You should run your translation for five randomly sampled English sentences from the dataset. For each sentence, the process is as follows:\n",
    "* Preprocess and embed the English sentence according to the model requirements.\n",
    "* Pass the embedded sentence through the encoder to get the encoder hidden and cell states.\n",
    "* Starting with the special  `\"<start>\"` token, use this token and the final encoder hidden and cell states to get the one-step prediction from the decoder, as well as the decoder’s updated hidden and cell states.\n",
    "* Create a loop to get the next step prediction and updated hidden and cell states from the decoder, using the most recent hidden and cell states. Terminate the loop when the `\"<end>\"` token is emitted, or when the sentence has reached a maximum length.\n",
    "* Decode the output token sequence into German text and print the English text and the model's German translation."
   ]
  },
  {
   "cell_type": "code",
   "execution_count": null,
   "metadata": {},
   "outputs": [],
   "source": [
    "# Function to preprocess and embed the English sentence\n",
    "def preprocess_and_embed(sentence):\n",
    "    sentence = preprocess_sentence(sentence)\n",
    "    sentence = tf.strings.split(sentence, sep=' ')\n",
    "    embedded_sentence = embedding_layer(sentence)\n",
    "    return tf.expand_dims(embedded_sentence, axis=0)\n"
   ]
  },
  {
   "cell_type": "code",
   "execution_count": null,
   "metadata": {},
   "outputs": [],
   "source": [
    "\n",
    "# Function to translate an English sentence to German using the trained model\n",
    "def translate_sentence(encoder, decoder, sentence):\n",
    "    # Preprocess and embed the English sentence\n",
    "    embedded_sentence = preprocess_and_embed(sentence)\n",
    "    \n",
    "    # Pass the embedded sentence through the encoder to get hidden and cell states\n",
    "    encoder_hidden, encoder_cell = encoder(embedded_sentence)\n",
    "    \n",
    "    # Initialize the decoder input with the '<start>' token\n",
    "    decoder_input = tf.constant(tokenizer.texts_to_sequences(['<start>']), dtype=tf.float32)\n",
    "    \n",
    "    # Initialize an empty list to store the decoded words\n",
    "    decoded_words = []\n",
    "    \n",
    "    # Create a loop to generate the translation\n",
    "    for _ in range(13):\n",
    "        # Pass the decoder input and encoder states through the decoder\n",
    "        predictions, decoder_hidden, decoder_cell = decoder(decoder_input, hidden_state=encoder_hidden, cell_state=encoder_cell)\n",
    "        \n",
    "        # Get the predicted word index\n",
    "        predicted_word_index = tf.argmax(predictions, axis=-1).numpy()[0, -1]\n",
    "        \n",
    "        # If the predicted word is '<end>', terminate the loop\n",
    "        if predicted_word_index == tokenizer.word_index['<end>']:\n",
    "            break\n",
    "        \n",
    "        # Convert the predicted word index to its corresponding word\n",
    "        predicted_word = tokenizer.index_word[predicted_word_index]\n",
    "        \n",
    "        # Append the predicted word to the list of decoded words\n",
    "        decoded_words.append(predicted_word)\n",
    "        \n",
    "        # Update the decoder input for the next iteration\n",
    "        decoder_input = tf.constant(tokenizer.texts_to_sequences([predicted_word]), dtype=tf.float32)\n",
    "    \n",
    "    # Join the decoded words to form the German translation\n",
    "    german_translation = ' '.join(decoded_words)\n",
    "    \n",
    "    return german_translation\n"
   ]
  },
  {
   "cell_type": "code",
   "execution_count": null,
   "metadata": {},
   "outputs": [],
   "source": [
    "# Choose five random indices from the validation dataset\n",
    "random_indices = np.random.choice(len(eng_test), size=5, replace=False)"
   ]
  },
  {
   "cell_type": "code",
   "execution_count": null,
   "metadata": {},
   "outputs": [],
   "source": [
    "\n",
    "# Translate and print the English sentence along with the model's German translation\n",
    "for index in random_indices:\n",
    "    english_sentence = eng_test[index]\n",
    "    german_translation = translate_sentence(encoder_model, decoder_model, english_sentence)\n",
    "    \n",
    "    print(\"English Sentence:\", english_sentence)\n",
    "    print(\"German Translation:\", german_translation)\n",
    "    print()\n"
   ]
  }
 ],
 "metadata": {
  "kernelspec": {
   "display_name": "tens",
   "language": "python",
   "name": "python3"
  },
  "language_info": {
   "codemirror_mode": {
    "name": "ipython",
    "version": 3
   },
   "file_extension": ".py",
   "mimetype": "text/x-python",
   "name": "python",
   "nbconvert_exporter": "python",
   "pygments_lexer": "ipython3",
   "version": "3.7.12"
  }
 },
 "nbformat": 4,
 "nbformat_minor": 2
}
